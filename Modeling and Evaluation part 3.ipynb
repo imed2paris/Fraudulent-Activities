{
 "cells": [
  {
   "cell_type": "markdown",
   "metadata": {},
   "source": [
    "# Modeling and Evaluation"
   ]
  },
  {
   "cell_type": "code",
   "execution_count": 1,
   "metadata": {},
   "outputs": [],
   "source": [
    "### ALL THE IMPORTS NEEDED FOR THIS PHASE\n",
    "\n",
    "# Data wrangling\n",
    "import pandas as pd\n",
    "import numpy as np\n",
    "\n",
    "# Data visualization\n",
    "import matplotlib.pyplot as plt\n",
    "\n",
    "# Classification algorithms\n",
    "from sklearn.linear_model import LogisticRegression\n",
    "from sklearn.ensemble import RandomForestClassifier\n",
    "\n",
    "# Cross-validation\n",
    "from sklearn.model_selection import GridSearchCV\n",
    "\n",
    "# Understanding of the results of an evaluation\n",
    "from sklearn.metrics import classification_report, plot_confusion_matrix\n",
    "from sklearn.metrics import recall_score, precision_score, accuracy_score, balanced_accuracy_score, f1_score\n",
    "from sklearn.metrics import roc_auc_score, roc_curve, precision_recall_curve\n",
    "\n",
    "# Exporting/importing models\n",
    "from joblib import load\n",
    "\n",
    "import warnings\n",
    "warnings.filterwarnings('ignore')"
   ]
  },
  {
   "cell_type": "code",
   "execution_count": 2,
   "metadata": {},
   "outputs": [],
   "source": [
    "X_train = pd.read_csv(\"X_train.csv\")\n",
    "y_train = pd.read_csv(\"y_train.csv\", header=None)\n",
    "X_test = pd.read_csv(\"X_test.csv\")\n",
    "y_test = pd.read_csv(\"y_test.csv\", header=None)"
   ]
  },
  {
   "cell_type": "code",
   "execution_count": 3,
   "metadata": {},
   "outputs": [
    {
     "data": {
      "text/plain": [
       "((120889, 37), (30223, 37), (120889, 1), (30223, 1))"
      ]
     },
     "execution_count": 3,
     "metadata": {},
     "output_type": "execute_result"
    }
   ],
   "source": [
    "X_train.shape, X_test.shape, y_train.shape, y_test.shape"
   ]
  },
  {
   "cell_type": "code",
   "execution_count": 4,
   "metadata": {},
   "outputs": [
    {
     "data": {
      "text/html": [
       "<div>\n",
       "<style scoped>\n",
       "    .dataframe tbody tr th:only-of-type {\n",
       "        vertical-align: middle;\n",
       "    }\n",
       "\n",
       "    .dataframe tbody tr th {\n",
       "        vertical-align: top;\n",
       "    }\n",
       "\n",
       "    .dataframe thead th {\n",
       "        text-align: right;\n",
       "    }\n",
       "</style>\n",
       "<table border=\"1\" class=\"dataframe\">\n",
       "  <thead>\n",
       "    <tr style=\"text-align: right;\">\n",
       "      <th></th>\n",
       "      <th>purchase_value</th>\n",
       "      <th>age</th>\n",
       "      <th>seconds_between_purchase_signup</th>\n",
       "      <th>purchase_hour</th>\n",
       "      <th>source_Direct</th>\n",
       "      <th>source_SEO</th>\n",
       "      <th>browser_FireFox</th>\n",
       "      <th>browser_IE</th>\n",
       "      <th>browser_Opera</th>\n",
       "      <th>browser_Safari</th>\n",
       "      <th>...</th>\n",
       "      <th>country_Taiwan; Republic of China (ROC)</th>\n",
       "      <th>country_United Kingdom</th>\n",
       "      <th>country_United States</th>\n",
       "      <th>country_Unknown</th>\n",
       "      <th>purchase_day_of_week_Monday</th>\n",
       "      <th>purchase_day_of_week_Saturday</th>\n",
       "      <th>purchase_day_of_week_Sunday</th>\n",
       "      <th>purchase_day_of_week_Thursday</th>\n",
       "      <th>purchase_day_of_week_Tuesday</th>\n",
       "      <th>purchase_day_of_week_Wednesday</th>\n",
       "    </tr>\n",
       "  </thead>\n",
       "  <tbody>\n",
       "    <tr>\n",
       "      <th>0</th>\n",
       "      <td>0.712890</td>\n",
       "      <td>-0.017282</td>\n",
       "      <td>-1.138580</td>\n",
       "      <td>-0.653497</td>\n",
       "      <td>0</td>\n",
       "      <td>1</td>\n",
       "      <td>0</td>\n",
       "      <td>0</td>\n",
       "      <td>0</td>\n",
       "      <td>1</td>\n",
       "      <td>...</td>\n",
       "      <td>0</td>\n",
       "      <td>0</td>\n",
       "      <td>0</td>\n",
       "      <td>0</td>\n",
       "      <td>0</td>\n",
       "      <td>1</td>\n",
       "      <td>0</td>\n",
       "      <td>0</td>\n",
       "      <td>0</td>\n",
       "      <td>0</td>\n",
       "    </tr>\n",
       "    <tr>\n",
       "      <th>1</th>\n",
       "      <td>0.549086</td>\n",
       "      <td>0.678751</td>\n",
       "      <td>1.302103</td>\n",
       "      <td>-1.087733</td>\n",
       "      <td>0</td>\n",
       "      <td>1</td>\n",
       "      <td>0</td>\n",
       "      <td>0</td>\n",
       "      <td>0</td>\n",
       "      <td>0</td>\n",
       "      <td>...</td>\n",
       "      <td>0</td>\n",
       "      <td>0</td>\n",
       "      <td>0</td>\n",
       "      <td>1</td>\n",
       "      <td>0</td>\n",
       "      <td>0</td>\n",
       "      <td>0</td>\n",
       "      <td>0</td>\n",
       "      <td>0</td>\n",
       "      <td>0</td>\n",
       "    </tr>\n",
       "    <tr>\n",
       "      <th>2</th>\n",
       "      <td>-1.198160</td>\n",
       "      <td>0.910763</td>\n",
       "      <td>-1.330176</td>\n",
       "      <td>-0.653497</td>\n",
       "      <td>0</td>\n",
       "      <td>0</td>\n",
       "      <td>0</td>\n",
       "      <td>1</td>\n",
       "      <td>0</td>\n",
       "      <td>0</td>\n",
       "      <td>...</td>\n",
       "      <td>0</td>\n",
       "      <td>0</td>\n",
       "      <td>0</td>\n",
       "      <td>0</td>\n",
       "      <td>0</td>\n",
       "      <td>0</td>\n",
       "      <td>0</td>\n",
       "      <td>0</td>\n",
       "      <td>1</td>\n",
       "      <td>0</td>\n",
       "    </tr>\n",
       "    <tr>\n",
       "      <th>3</th>\n",
       "      <td>0.549086</td>\n",
       "      <td>-0.133288</td>\n",
       "      <td>0.171997</td>\n",
       "      <td>0.504464</td>\n",
       "      <td>0</td>\n",
       "      <td>0</td>\n",
       "      <td>0</td>\n",
       "      <td>0</td>\n",
       "      <td>0</td>\n",
       "      <td>0</td>\n",
       "      <td>...</td>\n",
       "      <td>0</td>\n",
       "      <td>0</td>\n",
       "      <td>0</td>\n",
       "      <td>0</td>\n",
       "      <td>0</td>\n",
       "      <td>0</td>\n",
       "      <td>0</td>\n",
       "      <td>0</td>\n",
       "      <td>1</td>\n",
       "      <td>0</td>\n",
       "    </tr>\n",
       "    <tr>\n",
       "      <th>4</th>\n",
       "      <td>-1.361965</td>\n",
       "      <td>1.258780</td>\n",
       "      <td>-0.339607</td>\n",
       "      <td>-0.364007</td>\n",
       "      <td>0</td>\n",
       "      <td>1</td>\n",
       "      <td>0</td>\n",
       "      <td>0</td>\n",
       "      <td>0</td>\n",
       "      <td>1</td>\n",
       "      <td>...</td>\n",
       "      <td>0</td>\n",
       "      <td>0</td>\n",
       "      <td>1</td>\n",
       "      <td>0</td>\n",
       "      <td>0</td>\n",
       "      <td>1</td>\n",
       "      <td>0</td>\n",
       "      <td>0</td>\n",
       "      <td>0</td>\n",
       "      <td>0</td>\n",
       "    </tr>\n",
       "  </tbody>\n",
       "</table>\n",
       "<p>5 rows × 37 columns</p>\n",
       "</div>"
      ],
      "text/plain": [
       "   purchase_value       age  seconds_between_purchase_signup  purchase_hour  \\\n",
       "0        0.712890 -0.017282                        -1.138580      -0.653497   \n",
       "1        0.549086  0.678751                         1.302103      -1.087733   \n",
       "2       -1.198160  0.910763                        -1.330176      -0.653497   \n",
       "3        0.549086 -0.133288                         0.171997       0.504464   \n",
       "4       -1.361965  1.258780                        -0.339607      -0.364007   \n",
       "\n",
       "   source_Direct  source_SEO  browser_FireFox  browser_IE  browser_Opera  \\\n",
       "0              0           1                0           0              0   \n",
       "1              0           1                0           0              0   \n",
       "2              0           0                0           1              0   \n",
       "3              0           0                0           0              0   \n",
       "4              0           1                0           0              0   \n",
       "\n",
       "   browser_Safari  ...  country_Taiwan; Republic of China (ROC)  \\\n",
       "0               1  ...                                        0   \n",
       "1               0  ...                                        0   \n",
       "2               0  ...                                        0   \n",
       "3               0  ...                                        0   \n",
       "4               1  ...                                        0   \n",
       "\n",
       "   country_United Kingdom  country_United States  country_Unknown  \\\n",
       "0                       0                      0                0   \n",
       "1                       0                      0                1   \n",
       "2                       0                      0                0   \n",
       "3                       0                      0                0   \n",
       "4                       0                      1                0   \n",
       "\n",
       "   purchase_day_of_week_Monday  purchase_day_of_week_Saturday  \\\n",
       "0                            0                              1   \n",
       "1                            0                              0   \n",
       "2                            0                              0   \n",
       "3                            0                              0   \n",
       "4                            0                              1   \n",
       "\n",
       "   purchase_day_of_week_Sunday  purchase_day_of_week_Thursday  \\\n",
       "0                            0                              0   \n",
       "1                            0                              0   \n",
       "2                            0                              0   \n",
       "3                            0                              0   \n",
       "4                            0                              0   \n",
       "\n",
       "   purchase_day_of_week_Tuesday  purchase_day_of_week_Wednesday  \n",
       "0                             0                               0  \n",
       "1                             0                               0  \n",
       "2                             1                               0  \n",
       "3                             1                               0  \n",
       "4                             0                               0  \n",
       "\n",
       "[5 rows x 37 columns]"
      ]
     },
     "execution_count": 4,
     "metadata": {},
     "output_type": "execute_result"
    }
   ],
   "source": [
    "X_train.head()"
   ]
  },
  {
   "cell_type": "markdown",
   "metadata": {},
   "source": [
    "## Searching for the best hyperparameters\n",
    "\n",
    "We will optimise the most relevant of the models applied in the first two parts."
   ]
  },
  {
   "cell_type": "markdown",
   "metadata": {},
   "source": [
    "### Logistic Regression"
   ]
  },
  {
   "cell_type": "code",
   "execution_count": 5,
   "metadata": {},
   "outputs": [
    {
     "data": {
      "text/plain": [
       "{'cv': 4,\n",
       " 'error_score': nan,\n",
       " 'estimator__C': 1.0,\n",
       " 'estimator__class_weight': None,\n",
       " 'estimator__dual': False,\n",
       " 'estimator__fit_intercept': True,\n",
       " 'estimator__intercept_scaling': 1,\n",
       " 'estimator__l1_ratio': None,\n",
       " 'estimator__max_iter': 200,\n",
       " 'estimator__multi_class': 'auto',\n",
       " 'estimator__n_jobs': None,\n",
       " 'estimator__penalty': 'l2',\n",
       " 'estimator__random_state': None,\n",
       " 'estimator__solver': 'lbfgs',\n",
       " 'estimator__tol': 0.0001,\n",
       " 'estimator__verbose': 0,\n",
       " 'estimator__warm_start': False,\n",
       " 'estimator': LogisticRegression(max_iter=200),\n",
       " 'iid': 'deprecated',\n",
       " 'n_jobs': -1,\n",
       " 'param_grid': {'C': array([1.e+00, 1.e-01, 1.e-02, 1.e-03, 1.e-04]),\n",
       "  'class_weight': ['balanced', {0: 0.047, 1: 0.953}]},\n",
       " 'pre_dispatch': '2*n_jobs',\n",
       " 'refit': True,\n",
       " 'return_train_score': False,\n",
       " 'scoring': None,\n",
       " 'verbose': 0}"
      ]
     },
     "execution_count": 5,
     "metadata": {},
     "output_type": "execute_result"
    }
   ],
   "source": [
    "log_reg_estimator = LogisticRegression(max_iter=200)\n",
    "params = {\n",
    "    'C' : np.logspace(0, -4, num=5),\n",
    "    'class_weight' : ['balanced', {0 : 0.047, 1 : 0.953}]\n",
    "}\n",
    "\n",
    "log_reg_grid = GridSearchCV(estimator=log_reg_estimator, param_grid=params, cv=4, n_jobs=-1)\n",
    "log_reg_grid.fit(X_train, y_train)\n",
    "log_reg_grid.get_params()"
   ]
  },
  {
   "cell_type": "code",
   "execution_count": 6,
   "metadata": {},
   "outputs": [
    {
     "data": {
      "text/plain": [
       "{'C': 1.0, 'class_weight': 'balanced'}"
      ]
     },
     "execution_count": 6,
     "metadata": {},
     "output_type": "execute_result"
    }
   ],
   "source": [
    "log_reg_grid.best_params_"
   ]
  },
  {
   "cell_type": "markdown",
   "metadata": {},
   "source": [
    "The optimal logistic regression model is the one we studied earlier (cf part 1), namely balanced logistic regression."
   ]
  },
  {
   "cell_type": "markdown",
   "metadata": {},
   "source": [
    "### Random Forest"
   ]
  },
  {
   "cell_type": "code",
   "execution_count": 7,
   "metadata": {},
   "outputs": [
    {
     "data": {
      "text/plain": [
       "{'cv': 4,\n",
       " 'error_score': nan,\n",
       " 'estimator__bootstrap': True,\n",
       " 'estimator__ccp_alpha': 0.0,\n",
       " 'estimator__class_weight': None,\n",
       " 'estimator__criterion': 'gini',\n",
       " 'estimator__max_depth': None,\n",
       " 'estimator__max_features': 'auto',\n",
       " 'estimator__max_leaf_nodes': None,\n",
       " 'estimator__max_samples': None,\n",
       " 'estimator__min_impurity_decrease': 0.0,\n",
       " 'estimator__min_impurity_split': None,\n",
       " 'estimator__min_samples_leaf': 1,\n",
       " 'estimator__min_samples_split': 2,\n",
       " 'estimator__min_weight_fraction_leaf': 0.0,\n",
       " 'estimator__n_estimators': 100,\n",
       " 'estimator__n_jobs': None,\n",
       " 'estimator__oob_score': False,\n",
       " 'estimator__random_state': None,\n",
       " 'estimator__verbose': 0,\n",
       " 'estimator__warm_start': False,\n",
       " 'estimator': RandomForestClassifier(),\n",
       " 'iid': 'deprecated',\n",
       " 'n_jobs': -1,\n",
       " 'param_grid': {'n_estimators': [10, 25, 40, 55, 70, 90, 100, 120],\n",
       "  'max_depth': array([ 4,  6,  8, 10, 12])},\n",
       " 'pre_dispatch': '2*n_jobs',\n",
       " 'refit': True,\n",
       " 'return_train_score': False,\n",
       " 'scoring': None,\n",
       " 'verbose': 0}"
      ]
     },
     "execution_count": 7,
     "metadata": {},
     "output_type": "execute_result"
    }
   ],
   "source": [
    "rand_forest_estimator = RandomForestClassifier()\n",
    "params = {\n",
    "    \"n_estimators\": [10, 25, 40, 55, 70, 90, 100, 120],\n",
    "    \"max_depth\" : np.arange(4, 14, 2)\n",
    "}\n",
    "\n",
    "rand_forest_grid = GridSearchCV(\n",
    "    estimator = rand_forest_estimator, \n",
    "    param_grid = params, \n",
    "    n_jobs=-1,\n",
    "    cv=4\n",
    ")\n",
    "\n",
    "rand_forest_grid.fit(X_train, y_train)\n",
    "rand_forest_grid.get_params()"
   ]
  },
  {
   "cell_type": "code",
   "execution_count": 8,
   "metadata": {},
   "outputs": [
    {
     "data": {
      "text/plain": [
       "{'max_depth': 6, 'n_estimators': 55}"
      ]
     },
     "execution_count": 8,
     "metadata": {},
     "output_type": "execute_result"
    }
   ],
   "source": [
    "rand_forest_grid.best_params_"
   ]
  },
  {
   "cell_type": "markdown",
   "metadata": {},
   "source": [
    "The optimal random forest model is apparently one with 55 trees and a maximum depth of 6."
   ]
  },
  {
   "cell_type": "code",
   "execution_count": 9,
   "metadata": {},
   "outputs": [
    {
     "name": "stdout",
     "output_type": "stream",
     "text": [
      "Optimal Random Forest score on the training set 0.9567123559629082\n",
      "Optimal Random Forest score on the test set 0.956390828177216\n"
     ]
    }
   ],
   "source": [
    "print(\"Optimal Random Forest score on the training set\", rand_forest_grid.best_estimator_.score(X_train, y_train))\n",
    "print(\"Optimal Random Forest score on the test set\", rand_forest_grid.best_estimator_.score(X_test, y_test))"
   ]
  },
  {
   "cell_type": "code",
   "execution_count": 10,
   "metadata": {},
   "outputs": [
    {
     "data": {
      "image/png": "[encoded data removed]",
      "text/plain": [
       "<Figure size 1440x432 with 4 Axes>"
      ]
     },
     "metadata": {},
     "output_type": "display_data"
    }
   ],
   "source": [
    "fig, axs = plt.subplots(figsize=(20,6), nrows=1, ncols=2)\n",
    "\n",
    "plot_confusion_matrix(rand_forest_grid, X_train, y_train, ax=axs[0], normalize='true', values_format='.4f', cmap=plt.cm.Reds)\n",
    "axs[0].set_title(\"Confusion matrix of the Optimal Random Forest on the training set\")\n",
    "axs[0].set_xlabel(\"Predicted class\")\n",
    "axs[0].set_ylabel(\"True class\")\n",
    "\n",
    "plot_confusion_matrix(rand_forest_grid, X_test, y_test, ax=axs[1], normalize='true', values_format='.4f', cmap=plt.cm.Greens)\n",
    "axs[1].set_title(\"Confusion matrix of the Optimal Random Forest on the test set\")\n",
    "axs[1].set_xlabel(\"Predicted class\")\n",
    "axs[1].set_ylabel(\"True class\")\n",
    "\n",
    "plt.show()"
   ]
  },
  {
   "cell_type": "code",
   "execution_count": 11,
   "metadata": {},
   "outputs": [
    {
     "name": "stdout",
     "output_type": "stream",
     "text": [
      "Optimal Random forest : classification metrics on the training set\n",
      "              precision    recall  f1-score   support\n",
      "\n",
      "           0       0.95      1.00      0.98    109635\n",
      "           1       1.00      0.54      0.70     11254\n",
      "\n",
      "    accuracy                           0.96    120889\n",
      "   macro avg       0.98      0.77      0.84    120889\n",
      "weighted avg       0.96      0.96      0.95    120889\n",
      "\n",
      "\n",
      "Optimal Random forest : classification metrics on the test set\n",
      "              precision    recall  f1-score   support\n",
      "\n",
      "           0       0.95      1.00      0.98     27326\n",
      "           1       1.00      0.55      0.71      2897\n",
      "\n",
      "    accuracy                           0.96     30223\n",
      "   macro avg       0.98      0.77      0.84     30223\n",
      "weighted avg       0.96      0.96      0.95     30223\n",
      "\n"
     ]
    }
   ],
   "source": [
    "print(\"Optimal Random forest : classification metrics on the training set\")\n",
    "print(classification_report(y_true=y_train, y_pred=rand_forest_grid.predict(X_train)))\n",
    "print()\n",
    "print(\"Optimal Random forest : classification metrics on the test set\")\n",
    "print(classification_report(y_true=y_test, y_pred=rand_forest_grid.predict(X_test)))"
   ]
  },
  {
   "cell_type": "markdown",
   "metadata": {},
   "source": [
    "We obtain exactly the same results as in the first random forest model."
   ]
  },
  {
   "cell_type": "markdown",
   "metadata": {},
   "source": [
    "## Comparison between the models\n",
    "\n",
    "* We will compare the results from four models : \n",
    "    - the balanced logistic regression model (or the optimal logistic regression model)\n",
    "    - the random forest model (or the optimal random forest model)\n",
    "    - the AdaBoost model built on 100 decision trees with a maximum depth of 5\n",
    "    - the XGBoost model built on 100 decision trees with a maximum depth of 6"
   ]
  },
  {
   "cell_type": "code",
   "execution_count": 12,
   "metadata": {},
   "outputs": [],
   "source": [
    "# Balanced Logistic Regression\n",
    "log_reg_balanced_roc_auc = roc_auc_score(y_test, log_reg_grid.best_estimator_.predict(X_test))\n",
    "fpr_log_reg_balanced, tpr_log_reg_balanced, _ = roc_curve(y_test, log_reg_grid.best_estimator_.predict_proba(X_test)[:,1])\n",
    "\n",
    "# Random Forest\n",
    "rand_forest_roc_auc = roc_auc_score(y_test, rand_forest_grid.best_estimator_.predict(X_test))\n",
    "fpr_rand_forest, tpr_rand_forest, _ = roc_curve(y_test, rand_forest_grid.best_estimator_.predict_proba(X_test)[:,1])\n",
    "\n",
    "# AdaBoost\n",
    "ada_boost_depth_5 = load(\"ada_boost_depth_5.joblib\")\n",
    "ada_boost_roc_auc = roc_auc_score(y_test, ada_boost_depth_5.predict(X_test))\n",
    "fpr_ada_boost, tpr_ada_boost, _ = roc_curve(y_test, ada_boost_depth_5.predict_proba(X_test)[:,1])\n",
    "\n",
    "# XGBoost\n",
    "xg_boost = load(\"xg_boost.joblib\")\n",
    "xg_boost_roc_auc = roc_auc_score(y_test, xg_boost.predict(X_test))\n",
    "fpr_xg_boost, tpr_xg_boost, _ = roc_curve(y_test, xg_boost.predict_proba(X_test)[:,1])"
   ]
  },
  {
   "cell_type": "code",
   "execution_count": 13,
   "metadata": {},
   "outputs": [
    {
     "data": {
      "image/png": "[encoded data removed]",
      "text/plain": [
       "<Figure size 1440x432 with 1 Axes>"
      ]
     },
     "metadata": {},
     "output_type": "display_data"
    }
   ],
   "source": [
    "plt.figure(figsize=(20,6))\n",
    "\n",
    "plt.title('ROC Curves')\n",
    "plt.plot([0, 1], [0, 1],'r--', label=\"Random Classifier (area = 0.5)\")\n",
    "plt.plot(fpr_log_reg_balanced, tpr_log_reg_balanced, label='Balanced Logistic Regression (area = %0.4f)' % log_reg_balanced_roc_auc)\n",
    "plt.plot(fpr_rand_forest, tpr_rand_forest, label='Random Forest (area = %0.4f)' % rand_forest_roc_auc)\n",
    "plt.plot(fpr_ada_boost, tpr_ada_boost, label='AdaBoost (area = %0.4f)' % ada_boost_roc_auc)\n",
    "plt.plot(fpr_xg_boost, tpr_xg_boost, label='XGBoost (area = %0.4f)' % xg_boost_roc_auc)\n",
    "plt.xlabel('False Positive Rate')\n",
    "plt.ylabel('True Positive Rate')\n",
    "plt.legend(loc=\"lower right\")\n",
    "\n",
    "plt.show()"
   ]
  },
  {
   "cell_type": "code",
   "execution_count": 14,
   "metadata": {},
   "outputs": [],
   "source": [
    "model_comparison = pd.DataFrame(index=[\n",
    "    \"Balanced Logistic Regression\",\n",
    "    \"Random Forest\",\n",
    "    \"AdaBoost\", \n",
    "    \"XGBoost\",\n",
    "])\n",
    "model_comparison[\"Accuracy\"] = [\n",
    "    log_reg_grid.score(X_test, y_test),\n",
    "    rand_forest_grid.score(X_test, y_test), \n",
    "    ada_boost_depth_5.score(X_test, y_test),\n",
    "    xg_boost.score(X_test, y_test), \n",
    "]\n",
    "model_comparison[\"Balanced Accuracy\"] = [\n",
    "    balanced_accuracy_score(y_test, log_reg_grid.predict(X_test)),\n",
    "    balanced_accuracy_score(y_test, rand_forest_grid.predict(X_test)),\n",
    "    balanced_accuracy_score(y_test, ada_boost_depth_5.predict(X_test)),\n",
    "    balanced_accuracy_score(y_test, xg_boost.predict(X_test)),\n",
    "]\n",
    "model_comparison[\"F1 Score\"] = [\n",
    "    f1_score(y_test, log_reg_grid.predict(X_test)),\n",
    "    f1_score(y_test, rand_forest_grid.predict(X_test)),\n",
    "    f1_score(y_test, ada_boost_depth_5.predict(X_test)),\n",
    "    f1_score(y_test, xg_boost.predict(X_test)),\n",
    "]\n",
    "model_comparison[\"Precision\"] = [\n",
    "    precision_score(y_test, log_reg_grid.predict(X_test)),\n",
    "    precision_score(y_test, rand_forest_grid.predict(X_test)),\n",
    "    precision_score(y_test, ada_boost_depth_5.predict(X_test)),\n",
    "    precision_score(y_test, xg_boost.predict(X_test)),\n",
    "]\n",
    "model_comparison[\"Recall\"] = [\n",
    "    recall_score(y_test, log_reg_grid.predict(X_test)),\n",
    "    recall_score(y_test, rand_forest_grid.predict(X_test)),\n",
    "    recall_score(y_test, ada_boost_depth_5.predict(X_test)),\n",
    "    recall_score(y_test, xg_boost.predict(X_test)),\n",
    "]"
   ]
  },
  {
   "cell_type": "code",
   "execution_count": 15,
   "metadata": {},
   "outputs": [],
   "source": [
    "precision, recall, thresholds_pre_rec = precision_recall_curve(y_test, xg_boost.predict_proba(X_test)[:, 1])\n",
    "fpr, tpr, thresholds_fpr_tpr = roc_curve(y_test, xg_boost.predict_proba(X_test)[:, 1])\n",
    "precision_recall_df = pd.DataFrame({\"Precision\" : precision, \"Recall\" : recall, \"Thresholds_pre_rec\" : np.concatenate([np.array([0]), thresholds_pre_rec])})\n",
    "fpr_tpr_df = pd.DataFrame({\"FPR\" : fpr, \"TPR\" : tpr, \"Thresholds_fpr_tpr\" : thresholds_fpr_tpr})"
   ]
  },
  {
   "cell_type": "code",
   "execution_count": 16,
   "metadata": {},
   "outputs": [
    {
     "data": {
      "text/html": [
       "<div>\n",
       "<style scoped>\n",
       "    .dataframe tbody tr th:only-of-type {\n",
       "        vertical-align: middle;\n",
       "    }\n",
       "\n",
       "    .dataframe tbody tr th {\n",
       "        vertical-align: top;\n",
       "    }\n",
       "\n",
       "    .dataframe thead th {\n",
       "        text-align: right;\n",
       "    }\n",
       "</style>\n",
       "<table border=\"1\" class=\"dataframe\">\n",
       "  <thead>\n",
       "    <tr style=\"text-align: right;\">\n",
       "      <th></th>\n",
       "      <th>Precision</th>\n",
       "      <th>Recall</th>\n",
       "      <th>Thresholds_pre_rec</th>\n",
       "    </tr>\n",
       "  </thead>\n",
       "  <tbody>\n",
       "    <tr>\n",
       "      <th>0</th>\n",
       "      <td>0.095949</td>\n",
       "      <td>1.000000</td>\n",
       "      <td>0.000000</td>\n",
       "    </tr>\n",
       "    <tr>\n",
       "      <th>1</th>\n",
       "      <td>0.095919</td>\n",
       "      <td>0.999655</td>\n",
       "      <td>0.003674</td>\n",
       "    </tr>\n",
       "    <tr>\n",
       "      <th>2</th>\n",
       "      <td>0.095923</td>\n",
       "      <td>0.999655</td>\n",
       "      <td>0.003676</td>\n",
       "    </tr>\n",
       "    <tr>\n",
       "      <th>3</th>\n",
       "      <td>0.095893</td>\n",
       "      <td>0.999310</td>\n",
       "      <td>0.003696</td>\n",
       "    </tr>\n",
       "    <tr>\n",
       "      <th>4</th>\n",
       "      <td>0.095896</td>\n",
       "      <td>0.999310</td>\n",
       "      <td>0.003785</td>\n",
       "    </tr>\n",
       "    <tr>\n",
       "      <th>...</th>\n",
       "      <td>...</td>\n",
       "      <td>...</td>\n",
       "      <td>...</td>\n",
       "    </tr>\n",
       "    <tr>\n",
       "      <th>29115</th>\n",
       "      <td>1.000000</td>\n",
       "      <td>0.002761</td>\n",
       "      <td>0.999979</td>\n",
       "    </tr>\n",
       "    <tr>\n",
       "      <th>29116</th>\n",
       "      <td>1.000000</td>\n",
       "      <td>0.002416</td>\n",
       "      <td>0.999980</td>\n",
       "    </tr>\n",
       "    <tr>\n",
       "      <th>29117</th>\n",
       "      <td>1.000000</td>\n",
       "      <td>0.001726</td>\n",
       "      <td>0.999980</td>\n",
       "    </tr>\n",
       "    <tr>\n",
       "      <th>29118</th>\n",
       "      <td>1.000000</td>\n",
       "      <td>0.000345</td>\n",
       "      <td>0.999981</td>\n",
       "    </tr>\n",
       "    <tr>\n",
       "      <th>29119</th>\n",
       "      <td>1.000000</td>\n",
       "      <td>0.000000</td>\n",
       "      <td>0.999988</td>\n",
       "    </tr>\n",
       "  </tbody>\n",
       "</table>\n",
       "<p>29120 rows × 3 columns</p>\n",
       "</div>"
      ],
      "text/plain": [
       "       Precision    Recall  Thresholds_pre_rec\n",
       "0       0.095949  1.000000            0.000000\n",
       "1       0.095919  0.999655            0.003674\n",
       "2       0.095923  0.999655            0.003676\n",
       "3       0.095893  0.999310            0.003696\n",
       "4       0.095896  0.999310            0.003785\n",
       "...          ...       ...                 ...\n",
       "29115   1.000000  0.002761            0.999979\n",
       "29116   1.000000  0.002416            0.999980\n",
       "29117   1.000000  0.001726            0.999980\n",
       "29118   1.000000  0.000345            0.999981\n",
       "29119   1.000000  0.000000            0.999988\n",
       "\n",
       "[29120 rows x 3 columns]"
      ]
     },
     "execution_count": 16,
     "metadata": {},
     "output_type": "execute_result"
    }
   ],
   "source": [
    "precision_recall_df"
   ]
  },
  {
   "cell_type": "code",
   "execution_count": 17,
   "metadata": {},
   "outputs": [
    {
     "data": {
      "text/html": [
       "<div>\n",
       "<style scoped>\n",
       "    .dataframe tbody tr th:only-of-type {\n",
       "        vertical-align: middle;\n",
       "    }\n",
       "\n",
       "    .dataframe tbody tr th {\n",
       "        vertical-align: top;\n",
       "    }\n",
       "\n",
       "    .dataframe thead th {\n",
       "        text-align: right;\n",
       "    }\n",
       "</style>\n",
       "<table border=\"1\" class=\"dataframe\">\n",
       "  <thead>\n",
       "    <tr style=\"text-align: right;\">\n",
       "      <th></th>\n",
       "      <th>FPR</th>\n",
       "      <th>TPR</th>\n",
       "      <th>Thresholds_fpr_tpr</th>\n",
       "    </tr>\n",
       "  </thead>\n",
       "  <tbody>\n",
       "    <tr>\n",
       "      <th>0</th>\n",
       "      <td>0.000000</td>\n",
       "      <td>0.000000</td>\n",
       "      <td>1.999988</td>\n",
       "    </tr>\n",
       "    <tr>\n",
       "      <th>1</th>\n",
       "      <td>0.000000</td>\n",
       "      <td>0.000345</td>\n",
       "      <td>0.999988</td>\n",
       "    </tr>\n",
       "    <tr>\n",
       "      <th>2</th>\n",
       "      <td>0.000000</td>\n",
       "      <td>0.001726</td>\n",
       "      <td>0.999981</td>\n",
       "    </tr>\n",
       "    <tr>\n",
       "      <th>3</th>\n",
       "      <td>0.000000</td>\n",
       "      <td>0.002416</td>\n",
       "      <td>0.999980</td>\n",
       "    </tr>\n",
       "    <tr>\n",
       "      <th>4</th>\n",
       "      <td>0.000000</td>\n",
       "      <td>0.002761</td>\n",
       "      <td>0.999980</td>\n",
       "    </tr>\n",
       "    <tr>\n",
       "      <th>...</th>\n",
       "      <td>...</td>\n",
       "      <td>...</td>\n",
       "      <td>...</td>\n",
       "    </tr>\n",
       "    <tr>\n",
       "      <th>3095</th>\n",
       "      <td>0.998866</td>\n",
       "      <td>0.999310</td>\n",
       "      <td>0.003785</td>\n",
       "    </tr>\n",
       "    <tr>\n",
       "      <th>3096</th>\n",
       "      <td>0.998866</td>\n",
       "      <td>0.999655</td>\n",
       "      <td>0.003696</td>\n",
       "    </tr>\n",
       "    <tr>\n",
       "      <th>3097</th>\n",
       "      <td>0.998902</td>\n",
       "      <td>0.999655</td>\n",
       "      <td>0.003676</td>\n",
       "    </tr>\n",
       "    <tr>\n",
       "      <th>3098</th>\n",
       "      <td>0.998902</td>\n",
       "      <td>1.000000</td>\n",
       "      <td>0.003674</td>\n",
       "    </tr>\n",
       "    <tr>\n",
       "      <th>3099</th>\n",
       "      <td>1.000000</td>\n",
       "      <td>1.000000</td>\n",
       "      <td>0.000352</td>\n",
       "    </tr>\n",
       "  </tbody>\n",
       "</table>\n",
       "<p>3100 rows × 3 columns</p>\n",
       "</div>"
      ],
      "text/plain": [
       "           FPR       TPR  Thresholds_fpr_tpr\n",
       "0     0.000000  0.000000            1.999988\n",
       "1     0.000000  0.000345            0.999988\n",
       "2     0.000000  0.001726            0.999981\n",
       "3     0.000000  0.002416            0.999980\n",
       "4     0.000000  0.002761            0.999980\n",
       "...        ...       ...                 ...\n",
       "3095  0.998866  0.999310            0.003785\n",
       "3096  0.998866  0.999655            0.003696\n",
       "3097  0.998902  0.999655            0.003676\n",
       "3098  0.998902  1.000000            0.003674\n",
       "3099  1.000000  1.000000            0.000352\n",
       "\n",
       "[3100 rows x 3 columns]"
      ]
     },
     "execution_count": 17,
     "metadata": {},
     "output_type": "execute_result"
    }
   ],
   "source": [
    "fpr_tpr_df"
   ]
  },
  {
   "cell_type": "code",
   "execution_count": 18,
   "metadata": {},
   "outputs": [
    {
     "data": {
      "text/html": [
       "<div>\n",
       "<style scoped>\n",
       "    .dataframe tbody tr th:only-of-type {\n",
       "        vertical-align: middle;\n",
       "    }\n",
       "\n",
       "    .dataframe tbody tr th {\n",
       "        vertical-align: top;\n",
       "    }\n",
       "\n",
       "    .dataframe thead th {\n",
       "        text-align: right;\n",
       "    }\n",
       "</style>\n",
       "<table border=\"1\" class=\"dataframe\">\n",
       "  <thead>\n",
       "    <tr style=\"text-align: right;\">\n",
       "      <th></th>\n",
       "      <th>Accuracy</th>\n",
       "      <th>Balanced Accuracy</th>\n",
       "      <th>F1 Score</th>\n",
       "      <th>Precision</th>\n",
       "      <th>Recall</th>\n",
       "    </tr>\n",
       "  </thead>\n",
       "  <tbody>\n",
       "    <tr>\n",
       "      <th>Balanced Logistic Regression</th>\n",
       "      <td>0.647950</td>\n",
       "      <td>0.671849</td>\n",
       "      <td>0.276387</td>\n",
       "      <td>0.172101</td>\n",
       "      <td>0.701415</td>\n",
       "    </tr>\n",
       "    <tr>\n",
       "      <th>Random Forest</th>\n",
       "      <td>0.956391</td>\n",
       "      <td>0.772523</td>\n",
       "      <td>0.705541</td>\n",
       "      <td>1.000000</td>\n",
       "      <td>0.545047</td>\n",
       "    </tr>\n",
       "    <tr>\n",
       "      <th>AdaBoost</th>\n",
       "      <td>0.951858</td>\n",
       "      <td>0.771405</td>\n",
       "      <td>0.685813</td>\n",
       "      <td>0.915802</td>\n",
       "      <td>0.548153</td>\n",
       "    </tr>\n",
       "    <tr>\n",
       "      <th>XGBoost</th>\n",
       "      <td>0.956391</td>\n",
       "      <td>0.772523</td>\n",
       "      <td>0.705541</td>\n",
       "      <td>1.000000</td>\n",
       "      <td>0.545047</td>\n",
       "    </tr>\n",
       "  </tbody>\n",
       "</table>\n",
       "</div>"
      ],
      "text/plain": [
       "                              Accuracy  Balanced Accuracy  F1 Score  \\\n",
       "Balanced Logistic Regression  0.647950           0.671849  0.276387   \n",
       "Random Forest                 0.956391           0.772523  0.705541   \n",
       "AdaBoost                      0.951858           0.771405  0.685813   \n",
       "XGBoost                       0.956391           0.772523  0.705541   \n",
       "\n",
       "                              Precision    Recall  \n",
       "Balanced Logistic Regression   0.172101  0.701415  \n",
       "Random Forest                  1.000000  0.545047  \n",
       "AdaBoost                       0.915802  0.548153  \n",
       "XGBoost                        1.000000  0.545047  "
      ]
     },
     "execution_count": 18,
     "metadata": {},
     "output_type": "execute_result"
    }
   ],
   "source": [
    "model_comparison"
   ]
  },
  {
   "cell_type": "markdown",
   "metadata": {},
   "source": [
    "## Conclusion\n",
    "\n",
    "* We have tried to build a model that minimises the type II error, i.e. the false negative rate, which is the number of fraudulent transactions that the model declares legal.\n",
    "* In view of the comparison table and the ROC curves, despite low precision, the best model is the balanced logistic regression model since the recall value is 0.70, which means that the false negative rate is 0.30. The other models are more precise (precision higher than 90%), but the recall value does not exceed 55%, which means that of all the fraudulent transactions in our test set, these models only manage to recognise half of them.\n",
    "* In the first part of the Modeling and Evaluation phase, we found by analysing the balanced logistic regression results that the most influential feature is elapsed time between registration and purchase. Even if the coefficient attached to this variable is not high (0.8 in absolute value), it would be very wise to check the transactions made by users a few seconds after their registration. As a reminder, more than half of the illegal transactions in the data sample were performed within one second of account creation.   \n",
    "* To go further and to be able to build models with high rates of correct predictions, more data is needed. This data must :\n",
    "    - spread over a longer period ; in our study, the data concerned the transactions carried out in 2015 only\n",
    "    - contain more features ; the information collected on the users carrying out the transactions (gender, age, internet browser, ip address,...) is not sufficient to establish user profiles likely to commit fraud."
   ]
  }
 ],
 "metadata": {
  "kernelspec": {
   "display_name": "Python 3",
   "language": "python",
   "name": "python3"
  },
  "language_info": {
   "codemirror_mode": {
    "name": "ipython",
    "version": 3
   },
   "file_extension": ".py",
   "mimetype": "text/x-python",
   "name": "python",
   "nbconvert_exporter": "python",
   "pygments_lexer": "ipython3",
   "version": "3.6.0"
  }
 },
 "nbformat": 4,
 "nbformat_minor": 2
}
